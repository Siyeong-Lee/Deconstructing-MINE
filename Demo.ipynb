{
 "cells": [
  {
   "cell_type": "code",
   "execution_count": 1,
   "metadata": {},
   "outputs": [],
   "source": [
    "import functools\n",
    "import math\n",
    "\n",
    "import torch.utils.data as data\n",
    "import torch.optim as optim\n",
    "\n",
    "from MINE import controller, datasets, losses, models"
   ]
  },
  {
   "cell_type": "code",
   "execution_count": 2,
   "metadata": {},
   "outputs": [],
   "source": [
    "data_loader = data.DataLoader(\n",
    "    datasets.IntegerPairDataset(\n",
    "        number_of_cases=4,\n",
    "        x_embedding='one_hot',\n",
    "        y_embedding='one_hot',\n",
    "        transform=datasets.TransformToTensor()\n",
    "    ),\n",
    "    batch_size=100,\n",
    ")\n",
    "loss = functools.partial(losses.mine_sh_loss, target_value=0, distance_measure='l2')\n",
    "network = models.ConcatNet(4, 16)\n",
    "optimizer = optim.Adam(network.parameters(), lr=0.01)\n",
    "\n",
    "agent = controller.MINEController(\n",
    "    data_loader=data_loader, loss=loss, network=network, optimizer=optimizer\n",
    ")"
   ]
  },
  {
   "cell_type": "code",
   "execution_count": 3,
   "metadata": {
    "scrolled": false
   },
   "outputs": [
    {
     "name": "stderr",
     "output_type": "stream",
     "text": [
      "100%|██████████| 1000/1000 [00:17<00:00, 57.58it/s]\n",
      "100%|██████████| 1000/1000 [00:17<00:00, 57.04it/s]\n"
     ]
    }
   ],
   "source": [
    "import tqdm\n",
    "\n",
    "agent.to(3)\n",
    "\n",
    "agent.train()\n",
    "for i in tqdm.tqdm(range(1000)):\n",
    "    agent.step()\n",
    "\n",
    "agent.freeze()\n",
    "for i in tqdm.tqdm(range(1000)):\n",
    "    agent.step()\n"
   ]
  },
  {
   "cell_type": "code",
   "execution_count": 4,
   "metadata": {},
   "outputs": [
    {
     "name": "stdout",
     "output_type": "stream",
     "text": [
      "1.3731844 1.3862943611198906\n"
     ]
    }
   ],
   "source": [
    "print(agent.estimate(5000), math.log(4))"
   ]
  },
  {
   "cell_type": "code",
   "execution_count": null,
   "metadata": {},
   "outputs": [],
   "source": []
  }
 ],
 "metadata": {
  "kernelspec": {
   "display_name": "Python 3",
   "language": "python",
   "name": "python3"
  },
  "language_info": {
   "codemirror_mode": {
    "name": "ipython",
    "version": 3
   },
   "file_extension": ".py",
   "mimetype": "text/x-python",
   "name": "python",
   "nbconvert_exporter": "python",
   "pygments_lexer": "ipython3",
   "version": "3.6.9"
  }
 },
 "nbformat": 4,
 "nbformat_minor": 4
}
